{
 "cells": [
  {
   "cell_type": "code",
   "execution_count": 1,
   "id": "2aedb2c5",
   "metadata": {},
   "outputs": [],
   "source": [
    "n=3\n",
    "p=2"
   ]
  },
  {
   "cell_type": "code",
   "execution_count": 2,
   "id": "2b72a384",
   "metadata": {},
   "outputs": [],
   "source": [
    "def test(n,p):\n",
    "    return n**p  # ** means to the power "
   ]
  },
  {
   "cell_type": "code",
   "execution_count": 3,
   "id": "0c2a903d",
   "metadata": {},
   "outputs": [
    {
     "data": {
      "text/plain": [
       "9"
      ]
     },
     "execution_count": 3,
     "metadata": {},
     "output_type": "execute_result"
    }
   ],
   "source": [
    "test(3,2)\n"
   ]
  },
  {
   "cell_type": "code",
   "execution_count": 4,
   "id": "21655977",
   "metadata": {},
   "outputs": [
    {
     "data": {
      "text/plain": [
       "6561"
      ]
     },
     "execution_count": 4,
     "metadata": {},
     "output_type": "execute_result"
    }
   ],
   "source": [
    "test(9,4)"
   ]
  },
  {
   "cell_type": "code",
   "execution_count": 6,
   "id": "516c0efe",
   "metadata": {},
   "outputs": [],
   "source": [
    "a = lambda n,p: n**p #Lambda= an adhock func."
   ]
  },
  {
   "cell_type": "code",
   "execution_count": 7,
   "id": "881b5c5a",
   "metadata": {},
   "outputs": [
    {
     "data": {
      "text/plain": [
       "9"
      ]
     },
     "execution_count": 7,
     "metadata": {},
     "output_type": "execute_result"
    }
   ],
   "source": [
    "a(3,2)"
   ]
  },
  {
   "cell_type": "code",
   "execution_count": 8,
   "id": "36336859",
   "metadata": {},
   "outputs": [
    {
     "data": {
      "text/plain": [
       "6561"
      ]
     },
     "execution_count": 8,
     "metadata": {},
     "output_type": "execute_result"
    }
   ],
   "source": [
    "a(9,4)"
   ]
  },
  {
   "cell_type": "code",
   "execution_count": 9,
   "id": "b64ff8e9",
   "metadata": {},
   "outputs": [],
   "source": [
    "add= lambda x,y:x+y"
   ]
  },
  {
   "cell_type": "code",
   "execution_count": 10,
   "id": "bd334a08",
   "metadata": {},
   "outputs": [
    {
     "data": {
      "text/plain": [
       "9"
      ]
     },
     "execution_count": 10,
     "metadata": {},
     "output_type": "execute_result"
    }
   ],
   "source": [
    "add(4,5)"
   ]
  },
  {
   "cell_type": "code",
   "execution_count": 11,
   "id": "0cb8c217",
   "metadata": {},
   "outputs": [],
   "source": [
    "c_to_f= lambda c:(9/5)*c+32"
   ]
  },
  {
   "cell_type": "code",
   "execution_count": 12,
   "id": "c1ff7570",
   "metadata": {},
   "outputs": [
    {
     "data": {
      "text/plain": [
       "122.0"
      ]
     },
     "execution_count": 12,
     "metadata": {},
     "output_type": "execute_result"
    }
   ],
   "source": [
    "c_to_f(50)"
   ]
  },
  {
   "cell_type": "code",
   "execution_count": 13,
   "id": "534d7daa",
   "metadata": {},
   "outputs": [],
   "source": [
    "max_two = lambda x,y:x if x>y else y"
   ]
  },
  {
   "cell_type": "code",
   "execution_count": 14,
   "id": "eb2ed39c",
   "metadata": {},
   "outputs": [
    {
     "data": {
      "text/plain": [
       "56"
      ]
     },
     "execution_count": 14,
     "metadata": {},
     "output_type": "execute_result"
    }
   ],
   "source": [
    "max_two(4,56)"
   ]
  },
  {
   "cell_type": "code",
   "execution_count": 16,
   "id": "ae613fb6",
   "metadata": {},
   "outputs": [
    {
     "data": {
      "text/plain": [
       "89"
      ]
     },
     "execution_count": 16,
     "metadata": {},
     "output_type": "execute_result"
    }
   ],
   "source": [
    "max_two(4,89)"
   ]
  },
  {
   "cell_type": "code",
   "execution_count": 17,
   "id": "507c349c",
   "metadata": {},
   "outputs": [],
   "source": [
    "s='pwskills'"
   ]
  },
  {
   "cell_type": "code",
   "execution_count": 18,
   "id": "7c99c7cd",
   "metadata": {},
   "outputs": [],
   "source": [
    "len_st=lambda s: len(s)"
   ]
  },
  {
   "cell_type": "code",
   "execution_count": 19,
   "id": "23316765",
   "metadata": {},
   "outputs": [
    {
     "data": {
      "text/plain": [
       "8"
      ]
     },
     "execution_count": 19,
     "metadata": {},
     "output_type": "execute_result"
    }
   ],
   "source": [
    "len(s)"
   ]
  },
  {
   "cell_type": "code",
   "execution_count": null,
   "id": "87e65f66",
   "metadata": {},
   "outputs": [],
   "source": []
  }
 ],
 "metadata": {
  "kernelspec": {
   "display_name": "Python 3 (ipykernel)",
   "language": "python",
   "name": "python3"
  },
  "language_info": {
   "codemirror_mode": {
    "name": "ipython",
    "version": 3
   },
   "file_extension": ".py",
   "mimetype": "text/x-python",
   "name": "python",
   "nbconvert_exporter": "python",
   "pygments_lexer": "ipython3",
   "version": "3.8.3"
  }
 },
 "nbformat": 4,
 "nbformat_minor": 5
}
