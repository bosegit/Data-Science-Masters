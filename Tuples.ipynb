{
 "cells": [
  {
   "cell_type": "code",
   "execution_count": 6,
   "id": "3df4251a",
   "metadata": {},
   "outputs": [],
   "source": [
    "t = ()"
   ]
  },
  {
   "cell_type": "code",
   "execution_count": 7,
   "id": "4767824c",
   "metadata": {},
   "outputs": [
    {
     "data": {
      "text/plain": [
       "tuple"
      ]
     },
     "execution_count": 7,
     "metadata": {},
     "output_type": "execute_result"
    }
   ],
   "source": [
    "type(t)"
   ]
  },
  {
   "cell_type": "code",
   "execution_count": 5,
   "id": "9e684b64",
   "metadata": {},
   "outputs": [],
   "source": [
    "t1=(1,2,3,4,'arpan', 4j+6, 45.28)"
   ]
  },
  {
   "cell_type": "code",
   "execution_count": 8,
   "id": "45da7a18",
   "metadata": {},
   "outputs": [
    {
     "data": {
      "text/plain": [
       "tuple"
      ]
     },
     "execution_count": 8,
     "metadata": {},
     "output_type": "execute_result"
    }
   ],
   "source": [
    "type(t1)"
   ]
  },
  {
   "cell_type": "code",
   "execution_count": 11,
   "id": "f5499f64",
   "metadata": {},
   "outputs": [
    {
     "data": {
      "text/plain": [
       "list"
      ]
     },
     "execution_count": 11,
     "metadata": {},
     "output_type": "execute_result"
    }
   ],
   "source": [
    "l=[1,2,3,4]\n",
    "type(l)"
   ]
  },
  {
   "cell_type": "code",
   "execution_count": 12,
   "id": "dc86144f",
   "metadata": {},
   "outputs": [
    {
     "data": {
      "text/plain": [
       "(1, 2, 3, 4, 'arpan', (6+4j), 45.28)"
      ]
     },
     "execution_count": 12,
     "metadata": {},
     "output_type": "execute_result"
    }
   ],
   "source": [
    "t1"
   ]
  },
  {
   "cell_type": "code",
   "execution_count": 13,
   "id": "3f676246",
   "metadata": {},
   "outputs": [
    {
     "data": {
      "text/plain": [
       "1"
      ]
     },
     "execution_count": 13,
     "metadata": {},
     "output_type": "execute_result"
    }
   ],
   "source": [
    "t1[0]"
   ]
  },
  {
   "cell_type": "code",
   "execution_count": 15,
   "id": "634a59b3",
   "metadata": {},
   "outputs": [
    {
     "data": {
      "text/plain": [
       "45.28"
      ]
     },
     "execution_count": 15,
     "metadata": {},
     "output_type": "execute_result"
    }
   ],
   "source": [
    "t1[6]"
   ]
  },
  {
   "cell_type": "code",
   "execution_count": 16,
   "id": "48022b99",
   "metadata": {},
   "outputs": [
    {
     "data": {
      "text/plain": [
       "(45.28, (6+4j), 'arpan', 4, 3, 2, 1)"
      ]
     },
     "execution_count": 16,
     "metadata": {},
     "output_type": "execute_result"
    }
   ],
   "source": [
    "t1[::-1]"
   ]
  },
  {
   "cell_type": "code",
   "execution_count": 17,
   "id": "aa29fa90",
   "metadata": {},
   "outputs": [],
   "source": [
    "# item re assignment operation\n",
    "\n",
    "t1=t1[::-1]"
   ]
  },
  {
   "cell_type": "code",
   "execution_count": 18,
   "id": "fd9ebf98",
   "metadata": {},
   "outputs": [
    {
     "data": {
      "text/plain": [
       "(45.28, (6+4j), 'arpan', 4, 3, 2, 1)"
      ]
     },
     "execution_count": 18,
     "metadata": {},
     "output_type": "execute_result"
    }
   ],
   "source": [
    "t1"
   ]
  },
  {
   "cell_type": "code",
   "execution_count": 19,
   "id": "4809c9d3",
   "metadata": {},
   "outputs": [
    {
     "data": {
      "text/plain": [
       "(45.28, (6+4j), 'arpan')"
      ]
     },
     "execution_count": 19,
     "metadata": {},
     "output_type": "execute_result"
    }
   ],
   "source": [
    "# slicing operation\n",
    "\n",
    "t1[0:3]"
   ]
  },
  {
   "cell_type": "code",
   "execution_count": 20,
   "id": "aa38be0f",
   "metadata": {},
   "outputs": [
    {
     "data": {
      "text/plain": [
       "1"
      ]
     },
     "execution_count": 20,
     "metadata": {},
     "output_type": "execute_result"
    }
   ],
   "source": [
    "t1.count(4)"
   ]
  },
  {
   "cell_type": "code",
   "execution_count": 21,
   "id": "820b7937",
   "metadata": {},
   "outputs": [
    {
     "data": {
      "text/plain": [
       "0"
      ]
     },
     "execution_count": 21,
     "metadata": {},
     "output_type": "execute_result"
    }
   ],
   "source": [
    "t1.count('abc')"
   ]
  },
  {
   "cell_type": "code",
   "execution_count": 22,
   "id": "8be3dad2",
   "metadata": {},
   "outputs": [
    {
     "data": {
      "text/plain": [
       "6"
      ]
     },
     "execution_count": 22,
     "metadata": {},
     "output_type": "execute_result"
    }
   ],
   "source": [
    "t1.index(1)\n",
    "\n",
    "# system will store the value of True as 1. \n",
    "# So, if True will be there at first place in tuples the count(1) will be 0. \n",
    "# System will found 1 in first place."
   ]
  },
  {
   "cell_type": "code",
   "execution_count": 23,
   "id": "02285c3e",
   "metadata": {},
   "outputs": [
    {
     "data": {
      "text/plain": [
       "1"
      ]
     },
     "execution_count": 23,
     "metadata": {},
     "output_type": "execute_result"
    }
   ],
   "source": [
    "t1.count(True)\n",
    "\n",
    "# two time true. For 1 also another True is there. "
   ]
  },
  {
   "cell_type": "code",
   "execution_count": 24,
   "id": "6ce75d8f",
   "metadata": {},
   "outputs": [
    {
     "data": {
      "text/plain": [
       "(45.28, (6+4j), 'arpan', 4, 3, 2, 1)"
      ]
     },
     "execution_count": 24,
     "metadata": {},
     "output_type": "execute_result"
    }
   ],
   "source": [
    "t1"
   ]
  },
  {
   "cell_type": "code",
   "execution_count": 25,
   "id": "1d7b7c7c",
   "metadata": {},
   "outputs": [
    {
     "data": {
      "text/plain": [
       "[1, 2, 3, 4]"
      ]
     },
     "execution_count": 25,
     "metadata": {},
     "output_type": "execute_result"
    }
   ],
   "source": [
    "l"
   ]
  },
  {
   "cell_type": "code",
   "execution_count": 26,
   "id": "6e21a3db",
   "metadata": {},
   "outputs": [
    {
     "data": {
      "text/plain": [
       "45.28"
      ]
     },
     "execution_count": 26,
     "metadata": {},
     "output_type": "execute_result"
    }
   ],
   "source": [
    "t1[0]"
   ]
  },
  {
   "cell_type": "code",
   "execution_count": 28,
   "id": "478e96df",
   "metadata": {},
   "outputs": [
    {
     "data": {
      "text/plain": [
       "1"
      ]
     },
     "execution_count": 28,
     "metadata": {},
     "output_type": "execute_result"
    }
   ],
   "source": [
    "l[0]"
   ]
  },
  {
   "cell_type": "code",
   "execution_count": 5,
   "id": "65e96a3e",
   "metadata": {},
   "outputs": [],
   "source": [
    "t1=(1,2,3,4,'arpan', 4j+6, 45.28)\n",
    "l=[1,2,3,4]\n",
    "l[0]=100"
   ]
  },
  {
   "cell_type": "markdown",
   "id": "9d4003e0",
   "metadata": {},
   "source": [
    "# Tuples are basically follows immutability concepts where it is not going to allow to change any element at a perticular indexes"
   ]
  },
  {
   "cell_type": "code",
   "execution_count": 21,
   "id": "c57052a1",
   "metadata": {},
   "outputs": [
    {
     "ename": "TypeError",
     "evalue": "'tuple' object does not support item assignment",
     "output_type": "error",
     "traceback": [
      "\u001b[1;31m---------------------------------------------------------------------------\u001b[0m",
      "\u001b[1;31mTypeError\u001b[0m                                 Traceback (most recent call last)",
      "Cell \u001b[1;32mIn[21], line 1\u001b[0m\n\u001b[1;32m----> 1\u001b[0m \u001b[43mt1\u001b[49m\u001b[43m[\u001b[49m\u001b[38;5;241;43m0\u001b[39;49m\u001b[43m]\u001b[49m\u001b[38;5;241m=\u001b[39m\u001b[38;5;241m345\u001b[39m\n",
      "\u001b[1;31mTypeError\u001b[0m: 'tuple' object does not support item assignment"
     ]
    }
   ],
   "source": [
    "t1[0]=345"
   ]
  },
  {
   "cell_type": "code",
   "execution_count": null,
   "id": "9f7c0e0c",
   "metadata": {},
   "outputs": [],
   "source": []
  },
  {
   "cell_type": "code",
   "execution_count": 6,
   "id": "b6b29b71",
   "metadata": {},
   "outputs": [
    {
     "data": {
      "text/plain": [
       "[100, 2, 3, 4]"
      ]
     },
     "execution_count": 6,
     "metadata": {},
     "output_type": "execute_result"
    }
   ],
   "source": [
    "l"
   ]
  },
  {
   "cell_type": "code",
   "execution_count": 7,
   "id": "b5d877bc",
   "metadata": {},
   "outputs": [
    {
     "data": {
      "text/plain": [
       "(1, 2, 3, 4, 'arpan', (6+4j), 45.28)"
      ]
     },
     "execution_count": 7,
     "metadata": {},
     "output_type": "execute_result"
    }
   ],
   "source": [
    "t1"
   ]
  },
  {
   "cell_type": "code",
   "execution_count": 13,
   "id": "a04f6c76",
   "metadata": {},
   "outputs": [
    {
     "name": "stdout",
     "output_type": "stream",
     "text": [
      "1 <class 'int'>\n",
      "2 <class 'int'>\n",
      "3 <class 'int'>\n",
      "4 <class 'int'>\n",
      "arpan <class 'str'>\n",
      "(6+4j) <class 'complex'>\n",
      "45.28 <class 'float'>\n"
     ]
    }
   ],
   "source": [
    "for i in t1 :\n",
    "    print(i, type(i))"
   ]
  },
  {
   "cell_type": "code",
   "execution_count": 14,
   "id": "de868660",
   "metadata": {},
   "outputs": [],
   "source": [
    "t2=(1,2,3,4)"
   ]
  },
  {
   "cell_type": "code",
   "execution_count": 15,
   "id": "cabaf4de",
   "metadata": {},
   "outputs": [
    {
     "data": {
      "text/plain": [
       "(1, 2, 3, 4)"
      ]
     },
     "execution_count": 15,
     "metadata": {},
     "output_type": "execute_result"
    }
   ],
   "source": [
    "t2"
   ]
  },
  {
   "cell_type": "code",
   "execution_count": 17,
   "id": "d00e3516",
   "metadata": {},
   "outputs": [
    {
     "data": {
      "text/plain": [
       "4"
      ]
     },
     "execution_count": 17,
     "metadata": {},
     "output_type": "execute_result"
    }
   ],
   "source": [
    "max(t2)"
   ]
  },
  {
   "cell_type": "code",
   "execution_count": 18,
   "id": "626487f0",
   "metadata": {},
   "outputs": [
    {
     "data": {
      "text/plain": [
       "1"
      ]
     },
     "execution_count": 18,
     "metadata": {},
     "output_type": "execute_result"
    }
   ],
   "source": [
    "min(t2)"
   ]
  },
  {
   "cell_type": "code",
   "execution_count": 1,
   "id": "0ded90cf",
   "metadata": {},
   "outputs": [],
   "source": [
    "t1=(1,2,3,4)\n",
    "t2 = (4,5,6,7,8)"
   ]
  },
  {
   "cell_type": "code",
   "execution_count": 2,
   "id": "1415600c",
   "metadata": {},
   "outputs": [],
   "source": [
    "t3=(t1, t2)"
   ]
  },
  {
   "cell_type": "code",
   "execution_count": 3,
   "id": "5fd25a95",
   "metadata": {},
   "outputs": [
    {
     "data": {
      "text/plain": [
       "((1, 2, 3, 4), (4, 5, 6, 7, 8))"
      ]
     },
     "execution_count": 3,
     "metadata": {},
     "output_type": "execute_result"
    }
   ],
   "source": [
    "t3"
   ]
  },
  {
   "cell_type": "code",
   "execution_count": 4,
   "id": "9a80769e",
   "metadata": {},
   "outputs": [],
   "source": [
    "t4=(t3, 4,2,5,8,9,10)"
   ]
  },
  {
   "cell_type": "code",
   "execution_count": 5,
   "id": "b4aa5898",
   "metadata": {},
   "outputs": [
    {
     "data": {
      "text/plain": [
       "(((1, 2, 3, 4), (4, 5, 6, 7, 8)), 4, 2, 5, 8, 9, 10)"
      ]
     },
     "execution_count": 5,
     "metadata": {},
     "output_type": "execute_result"
    }
   ],
   "source": [
    "t4"
   ]
  },
  {
   "cell_type": "code",
   "execution_count": 6,
   "id": "52568a5d",
   "metadata": {},
   "outputs": [],
   "source": [
    "del t4"
   ]
  },
  {
   "cell_type": "code",
   "execution_count": 7,
   "id": "62010ffe",
   "metadata": {},
   "outputs": [
    {
     "ename": "NameError",
     "evalue": "name 't4' is not defined",
     "output_type": "error",
     "traceback": [
      "\u001b[1;31m---------------------------------------------------------------------------\u001b[0m",
      "\u001b[1;31mNameError\u001b[0m                                 Traceback (most recent call last)",
      "Cell \u001b[1;32mIn[7], line 1\u001b[0m\n\u001b[1;32m----> 1\u001b[0m \u001b[43mt4\u001b[49m\n",
      "\u001b[1;31mNameError\u001b[0m: name 't4' is not defined"
     ]
    }
   ],
   "source": [
    "t4"
   ]
  },
  {
   "cell_type": "code",
   "execution_count": 8,
   "id": "da6d30fd",
   "metadata": {},
   "outputs": [
    {
     "data": {
      "text/plain": [
       "(1, 2, 3, 4)"
      ]
     },
     "execution_count": 8,
     "metadata": {},
     "output_type": "execute_result"
    }
   ],
   "source": [
    "t1"
   ]
  },
  {
   "cell_type": "code",
   "execution_count": 9,
   "id": "32c33a29",
   "metadata": {},
   "outputs": [
    {
     "data": {
      "text/plain": [
       "4"
      ]
     },
     "execution_count": 9,
     "metadata": {},
     "output_type": "execute_result"
    }
   ],
   "source": [
    "len (t1)"
   ]
  },
  {
   "cell_type": "code",
   "execution_count": 10,
   "id": "55a46000",
   "metadata": {},
   "outputs": [
    {
     "data": {
      "text/plain": [
       "False"
      ]
     },
     "execution_count": 10,
     "metadata": {},
     "output_type": "execute_result"
    }
   ],
   "source": [
    "'Arpan' in t1"
   ]
  },
  {
   "cell_type": "code",
   "execution_count": 11,
   "id": "2eaa5ef4",
   "metadata": {},
   "outputs": [
    {
     "data": {
      "text/plain": [
       "True"
      ]
     },
     "execution_count": 11,
     "metadata": {},
     "output_type": "execute_result"
    }
   ],
   "source": [
    "2 in t1"
   ]
  }
 ],
 "metadata": {
  "kernelspec": {
   "display_name": "Python 3 (ipykernel)",
   "language": "python",
   "name": "python3"
  },
  "language_info": {
   "codemirror_mode": {
    "name": "ipython",
    "version": 3
   },
   "file_extension": ".py",
   "mimetype": "text/x-python",
   "name": "python",
   "nbconvert_exporter": "python",
   "pygments_lexer": "ipython3",
   "version": "3.8.3"
  }
 },
 "nbformat": 4,
 "nbformat_minor": 5
}
